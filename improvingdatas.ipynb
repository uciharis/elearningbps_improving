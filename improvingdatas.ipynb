{
  "nbformat": 4,
  "nbformat_minor": 0,
  "metadata": {
    "colab": {
      "provenance": [],
      "authorship_tag": "ABX9TyM/ZdgaZViW+ifm8hKYJu4v",
      "include_colab_link": true
    },
    "kernelspec": {
      "name": "python3",
      "display_name": "Python 3"
    },
    "language_info": {
      "name": "python"
    }
  },
  "cells": [
    {
      "cell_type": "markdown",
      "metadata": {
        "id": "view-in-github",
        "colab_type": "text"
      },
      "source": [
        "<a href=\"https://colab.research.google.com/github/uciharis/elearningbps_improving/blob/main/improvingdatas.ipynb\" target=\"_parent\"><img src=\"https://colab.research.google.com/assets/colab-badge.svg\" alt=\"Open In Colab\"/></a>"
      ]
    },
    {
      "cell_type": "code",
      "source": [
        "!pip install ydata_profiling"
      ],
      "metadata": {
        "colab": {
          "base_uri": "https://localhost:8080/"
        },
        "id": "ocRMK5elXsQX",
        "outputId": "606ac1df-cb43-4114-c056-5d0883d820ad"
      },
      "execution_count": null,
      "outputs": [
        {
          "output_type": "stream",
          "name": "stdout",
          "text": [
            "Collecting ydata_profiling\n",
            "  Downloading ydata_profiling-4.9.0-py2.py3-none-any.whl.metadata (20 kB)\n",
            "Requirement already satisfied: scipy<1.14,>=1.4.1 in /usr/local/lib/python3.10/dist-packages (from ydata_profiling) (1.13.1)\n",
            "Requirement already satisfied: pandas!=1.4.0,<3,>1.1 in /usr/local/lib/python3.10/dist-packages (from ydata_profiling) (2.1.4)\n",
            "Requirement already satisfied: matplotlib<3.10,>=3.5 in /usr/local/lib/python3.10/dist-packages (from ydata_profiling) (3.7.1)\n",
            "Requirement already satisfied: pydantic>=2 in /usr/local/lib/python3.10/dist-packages (from ydata_profiling) (2.8.2)\n",
            "Requirement already satisfied: PyYAML<6.1,>=5.0.0 in /usr/local/lib/python3.10/dist-packages (from ydata_profiling) (6.0.2)\n",
            "Requirement already satisfied: jinja2<3.2,>=2.11.1 in /usr/local/lib/python3.10/dist-packages (from ydata_profiling) (3.1.4)\n",
            "Collecting visions<0.7.7,>=0.7.5 (from visions[type_image_path]<0.7.7,>=0.7.5->ydata_profiling)\n",
            "  Downloading visions-0.7.6-py3-none-any.whl.metadata (11 kB)\n",
            "Requirement already satisfied: numpy<2,>=1.16.0 in /usr/local/lib/python3.10/dist-packages (from ydata_profiling) (1.26.4)\n",
            "Collecting htmlmin==0.1.12 (from ydata_profiling)\n",
            "  Downloading htmlmin-0.1.12.tar.gz (19 kB)\n",
            "  Preparing metadata (setup.py) ... \u001b[?25l\u001b[?25hdone\n",
            "Collecting phik<0.13,>=0.11.1 (from ydata_profiling)\n",
            "  Downloading phik-0.12.4-cp310-cp310-manylinux_2_17_x86_64.manylinux2014_x86_64.whl.metadata (5.6 kB)\n",
            "Requirement already satisfied: requests<3,>=2.24.0 in /usr/local/lib/python3.10/dist-packages (from ydata_profiling) (2.32.3)\n",
            "Requirement already satisfied: tqdm<5,>=4.48.2 in /usr/local/lib/python3.10/dist-packages (from ydata_profiling) (4.66.5)\n",
            "Requirement already satisfied: seaborn<0.14,>=0.10.1 in /usr/local/lib/python3.10/dist-packages (from ydata_profiling) (0.13.1)\n",
            "Collecting multimethod<2,>=1.4 (from ydata_profiling)\n",
            "  Downloading multimethod-1.12-py3-none-any.whl.metadata (9.6 kB)\n",
            "Requirement already satisfied: statsmodels<1,>=0.13.2 in /usr/local/lib/python3.10/dist-packages (from ydata_profiling) (0.14.2)\n",
            "Requirement already satisfied: typeguard<5,>=3 in /usr/local/lib/python3.10/dist-packages (from ydata_profiling) (4.3.0)\n",
            "Collecting imagehash==4.3.1 (from ydata_profiling)\n",
            "  Downloading ImageHash-4.3.1-py2.py3-none-any.whl.metadata (8.0 kB)\n",
            "Requirement already satisfied: wordcloud>=1.9.1 in /usr/local/lib/python3.10/dist-packages (from ydata_profiling) (1.9.3)\n",
            "Collecting dacite>=1.8 (from ydata_profiling)\n",
            "  Downloading dacite-1.8.1-py3-none-any.whl.metadata (15 kB)\n",
            "Requirement already satisfied: numba<1,>=0.56.0 in /usr/local/lib/python3.10/dist-packages (from ydata_profiling) (0.60.0)\n",
            "Collecting PyWavelets (from imagehash==4.3.1->ydata_profiling)\n",
            "  Downloading pywavelets-1.7.0-cp310-cp310-manylinux_2_17_x86_64.manylinux2014_x86_64.whl.metadata (9.0 kB)\n",
            "Requirement already satisfied: pillow in /usr/local/lib/python3.10/dist-packages (from imagehash==4.3.1->ydata_profiling) (9.4.0)\n",
            "Requirement already satisfied: MarkupSafe>=2.0 in /usr/local/lib/python3.10/dist-packages (from jinja2<3.2,>=2.11.1->ydata_profiling) (2.1.5)\n",
            "Requirement already satisfied: contourpy>=1.0.1 in /usr/local/lib/python3.10/dist-packages (from matplotlib<3.10,>=3.5->ydata_profiling) (1.3.0)\n",
            "Requirement already satisfied: cycler>=0.10 in /usr/local/lib/python3.10/dist-packages (from matplotlib<3.10,>=3.5->ydata_profiling) (0.12.1)\n",
            "Requirement already satisfied: fonttools>=4.22.0 in /usr/local/lib/python3.10/dist-packages (from matplotlib<3.10,>=3.5->ydata_profiling) (4.53.1)\n",
            "Requirement already satisfied: kiwisolver>=1.0.1 in /usr/local/lib/python3.10/dist-packages (from matplotlib<3.10,>=3.5->ydata_profiling) (1.4.5)\n",
            "Requirement already satisfied: packaging>=20.0 in /usr/local/lib/python3.10/dist-packages (from matplotlib<3.10,>=3.5->ydata_profiling) (24.1)\n",
            "Requirement already satisfied: pyparsing>=2.3.1 in /usr/local/lib/python3.10/dist-packages (from matplotlib<3.10,>=3.5->ydata_profiling) (3.1.4)\n",
            "Requirement already satisfied: python-dateutil>=2.7 in /usr/local/lib/python3.10/dist-packages (from matplotlib<3.10,>=3.5->ydata_profiling) (2.8.2)\n",
            "Requirement already satisfied: llvmlite<0.44,>=0.43.0dev0 in /usr/local/lib/python3.10/dist-packages (from numba<1,>=0.56.0->ydata_profiling) (0.43.0)\n",
            "Requirement already satisfied: pytz>=2020.1 in /usr/local/lib/python3.10/dist-packages (from pandas!=1.4.0,<3,>1.1->ydata_profiling) (2024.1)\n",
            "Requirement already satisfied: tzdata>=2022.1 in /usr/local/lib/python3.10/dist-packages (from pandas!=1.4.0,<3,>1.1->ydata_profiling) (2024.1)\n",
            "Requirement already satisfied: joblib>=0.14.1 in /usr/local/lib/python3.10/dist-packages (from phik<0.13,>=0.11.1->ydata_profiling) (1.4.2)\n",
            "Requirement already satisfied: annotated-types>=0.4.0 in /usr/local/lib/python3.10/dist-packages (from pydantic>=2->ydata_profiling) (0.7.0)\n",
            "Requirement already satisfied: pydantic-core==2.20.1 in /usr/local/lib/python3.10/dist-packages (from pydantic>=2->ydata_profiling) (2.20.1)\n",
            "Requirement already satisfied: typing-extensions>=4.6.1 in /usr/local/lib/python3.10/dist-packages (from pydantic>=2->ydata_profiling) (4.12.2)\n",
            "Requirement already satisfied: charset-normalizer<4,>=2 in /usr/local/lib/python3.10/dist-packages (from requests<3,>=2.24.0->ydata_profiling) (3.3.2)\n",
            "Requirement already satisfied: idna<4,>=2.5 in /usr/local/lib/python3.10/dist-packages (from requests<3,>=2.24.0->ydata_profiling) (3.8)\n",
            "Requirement already satisfied: urllib3<3,>=1.21.1 in /usr/local/lib/python3.10/dist-packages (from requests<3,>=2.24.0->ydata_profiling) (2.0.7)\n",
            "Requirement already satisfied: certifi>=2017.4.17 in /usr/local/lib/python3.10/dist-packages (from requests<3,>=2.24.0->ydata_profiling) (2024.8.30)\n",
            "Requirement already satisfied: patsy>=0.5.6 in /usr/local/lib/python3.10/dist-packages (from statsmodels<1,>=0.13.2->ydata_profiling) (0.5.6)\n",
            "Requirement already satisfied: attrs>=19.3.0 in /usr/local/lib/python3.10/dist-packages (from visions<0.7.7,>=0.7.5->visions[type_image_path]<0.7.7,>=0.7.5->ydata_profiling) (24.2.0)\n",
            "Requirement already satisfied: networkx>=2.4 in /usr/local/lib/python3.10/dist-packages (from visions<0.7.7,>=0.7.5->visions[type_image_path]<0.7.7,>=0.7.5->ydata_profiling) (3.3)\n",
            "Requirement already satisfied: six in /usr/local/lib/python3.10/dist-packages (from patsy>=0.5.6->statsmodels<1,>=0.13.2->ydata_profiling) (1.16.0)\n",
            "Downloading ydata_profiling-4.9.0-py2.py3-none-any.whl (356 kB)\n",
            "\u001b[2K   \u001b[90m━━━━━━━━━━━━━━━━━━━━━━━━━━━━━━━━━━━━━━━━\u001b[0m \u001b[32m356.2/356.2 kB\u001b[0m \u001b[31m2.7 MB/s\u001b[0m eta \u001b[36m0:00:00\u001b[0m\n",
            "\u001b[?25hDownloading ImageHash-4.3.1-py2.py3-none-any.whl (296 kB)\n",
            "\u001b[2K   \u001b[90m━━━━━━━━━━━━━━━━━━━━━━━━━━━━━━━━━━━━━━━━\u001b[0m \u001b[32m296.5/296.5 kB\u001b[0m \u001b[31m13.6 MB/s\u001b[0m eta \u001b[36m0:00:00\u001b[0m\n",
            "\u001b[?25hDownloading dacite-1.8.1-py3-none-any.whl (14 kB)\n",
            "Downloading multimethod-1.12-py3-none-any.whl (10 kB)\n",
            "Downloading phik-0.12.4-cp310-cp310-manylinux_2_17_x86_64.manylinux2014_x86_64.whl (686 kB)\n",
            "\u001b[2K   \u001b[90m━━━━━━━━━━━━━━━━━━━━━━━━━━━━━━━━━━━━━━━━\u001b[0m \u001b[32m686.1/686.1 kB\u001b[0m \u001b[31m12.9 MB/s\u001b[0m eta \u001b[36m0:00:00\u001b[0m\n",
            "\u001b[?25hDownloading visions-0.7.6-py3-none-any.whl (104 kB)\n",
            "\u001b[2K   \u001b[90m━━━━━━━━━━━━━━━━━━━━━━━━━━━━━━━━━━━━━━━━\u001b[0m \u001b[32m104.8/104.8 kB\u001b[0m \u001b[31m8.0 MB/s\u001b[0m eta \u001b[36m0:00:00\u001b[0m\n",
            "\u001b[?25hDownloading pywavelets-1.7.0-cp310-cp310-manylinux_2_17_x86_64.manylinux2014_x86_64.whl (4.5 MB)\n",
            "\u001b[2K   \u001b[90m━━━━━━━━━━━━━━━━━━━━━━━━━━━━━━━━━━━━━━━━\u001b[0m \u001b[32m4.5/4.5 MB\u001b[0m \u001b[31m31.0 MB/s\u001b[0m eta \u001b[36m0:00:00\u001b[0m\n",
            "\u001b[?25hBuilding wheels for collected packages: htmlmin\n",
            "  Building wheel for htmlmin (setup.py) ... \u001b[?25l\u001b[?25hdone\n",
            "  Created wheel for htmlmin: filename=htmlmin-0.1.12-py3-none-any.whl size=27081 sha256=d84397beb810650fa3ef4bcd275e560fe897ee443f68d41d4106bf37ce92e2ad\n",
            "  Stored in directory: /root/.cache/pip/wheels/dd/91/29/a79cecb328d01739e64017b6fb9a1ab9d8cb1853098ec5966d\n",
            "Successfully built htmlmin\n",
            "Installing collected packages: htmlmin, PyWavelets, multimethod, dacite, imagehash, visions, phik, ydata_profiling\n",
            "Successfully installed PyWavelets-1.7.0 dacite-1.8.1 htmlmin-0.1.12 imagehash-4.3.1 multimethod-1.12 phik-0.12.4 visions-0.7.6 ydata_profiling-4.9.0\n"
          ]
        }
      ]
    },
    {
      "cell_type": "markdown",
      "source": [
        "meng-import librari untuk dipakai eval.\n",
        "dalam hal ini librari yang dipakai :\n",
        "pandas, numpy, io, ydata_profiling\n",
        "\n",
        "jangan lupa data xls nya diunduh(modified) di\n",
        "\n",
        "https://docs.google.com/spreadsheets/d/17IWZ20h-VxZPkgr1q065kU-TyBDmocM7/edit?usp=sharing&ouid=100128253289896497427&rtpof=true&sd=true"
      ],
      "metadata": {
        "id": "L1IMvFD6Yl1n"
      }
    },
    {
      "cell_type": "code",
      "execution_count": null,
      "metadata": {
        "id": "O9-mijKYVonL"
      },
      "outputs": [],
      "source": [
        "import pandas as pd\n",
        "import numpy as np\n",
        "import io\n",
        "import ydata_profiling\n",
        "online_ritel = pd.read_excel('/content/drive/MyDrive/online_retail.xlsx')"
      ]
    },
    {
      "cell_type": "markdown",
      "source": [
        "mengecek tipe data apa saja di dataset"
      ],
      "metadata": {
        "id": "hs_pyht3ZIvV"
      }
    },
    {
      "cell_type": "code",
      "source": [
        "print(online_ritel.dtypes)\n",
        "# mengecek tipe data yang ada di dataset"
      ],
      "metadata": {
        "colab": {
          "base_uri": "https://localhost:8080/"
        },
        "id": "zLfnjobyYO6V",
        "outputId": "14939e0d-aaf8-4e4f-ace7-9bc41adb3373"
      },
      "execution_count": null,
      "outputs": [
        {
          "output_type": "stream",
          "name": "stdout",
          "text": [
            "index                    int64\n",
            "invoice_no              object\n",
            "stock_code              object\n",
            "description             object\n",
            "quantity               float64\n",
            "invoice_date    datetime64[ns]\n",
            "unit_price             float64\n",
            "customer_id            float64\n",
            "country                 object\n",
            "dtype: object\n"
          ]
        }
      ]
    },
    {
      "cell_type": "markdown",
      "source": [
        "Statistik Deskriptif:\n",
        "\n",
        "beberapa fungsi utk deskripsi"
      ],
      "metadata": {
        "id": "48bF6mYCZ591"
      }
    },
    {
      "cell_type": "code",
      "source": [
        "#len [length]\n",
        "# hitung jumlah data atau amatan pada series/ colum\n",
        "length_country = len(online_ritel['country'])\n",
        "print(length_country)\n",
        "length_stok = len(online_ritel['stock_code'])\n",
        "print(length_stok)"
      ],
      "metadata": {
        "colab": {
          "base_uri": "https://localhost:8080/"
        },
        "id": "BApV5uRUaDD9",
        "outputId": "b6202f44-0879-4ecf-df16-a8c1422d1fe9"
      },
      "execution_count": null,
      "outputs": [
        {
          "output_type": "stream",
          "name": "stdout",
          "text": [
            "7001\n",
            "7001\n"
          ]
        }
      ]
    },
    {
      "cell_type": "code",
      "source": [
        "#count\n",
        "# menghitung amatan pada series\n",
        "# beda count dan length : count menghitung series/kolom yang non-null atau non-missing value"
      ],
      "metadata": {
        "id": "niVpsU3ob2uc"
      },
      "execution_count": null,
      "outputs": []
    },
    {
      "cell_type": "code",
      "source": [
        "count_country = online_ritel['country'].count()\n",
        "print(count_country)"
      ],
      "metadata": {
        "colab": {
          "base_uri": "https://localhost:8080/"
        },
        "id": "owy4rQOscRZw",
        "outputId": "f44e46b9-fee7-4151-87fe-db853f9f16ba"
      },
      "execution_count": null,
      "outputs": [
        {
          "output_type": "stream",
          "name": "stdout",
          "text": [
            "6997\n",
            "6997\n"
          ]
        }
      ]
    },
    {
      "cell_type": "code",
      "source": [
        "# menghitung missing value\n",
        "# dengan cara menghitung selisih length dan count\n",
        "# misal pada country\n",
        "selisih1 = length_country - count_country\n",
        "print(selisih1)\n",
        "rasio_selisih1 = selisih1/length_country\n",
        "print(rasio_selisih1)\n",
        "print('{0:.1f}%'.format(rasio_selisih1*100))"
      ],
      "metadata": {
        "colab": {
          "base_uri": "https://localhost:8080/"
        },
        "id": "SCx_nYvvdY8B",
        "outputId": "02ef3327-671f-43ca-867e-9e241c131a47"
      },
      "execution_count": 17,
      "outputs": [
        {
          "output_type": "stream",
          "name": "stdout",
          "text": [
            "4\n",
            "0.0005713469504356521\n",
            "0.1%\n"
          ]
        }
      ]
    },
    {
      "cell_type": "code",
      "source": [
        "# max dan min\n",
        "# mengetahui elemen terbesar dan terkecil dari kolom dataframe\n",
        "# contoh : online_ritel['country'].max()\n",
        "# contoh : online_ritel['country'].min()"
      ],
      "metadata": {
        "id": "u4VySvzhieL1"
      },
      "execution_count": null,
      "outputs": []
    },
    {
      "cell_type": "code",
      "source": [
        "# ukuran pemusatan data\n",
        "# mean, median, modus dan standar deviasi\n",
        "# contoh : online_ritel['country'].mean()\n",
        "# contoh : online_ritel['country'].median()\n",
        "# contoh : online_ritel['country'].modus()\n",
        "# contoh : online_ritel['country'].std()"
      ],
      "metadata": {
        "id": "VT71krWoi5I1"
      },
      "execution_count": null,
      "outputs": []
    },
    {
      "cell_type": "code",
      "source": [
        "# kita coba ke dataframe/dataset online_ritel dengan kolom = quantity\n",
        "print('nilai minimum:', online_ritel['quantity'].min())\n",
        "print('nilai maksimum:', online_ritel['quantity'].max())\n",
        "print('nilai mean:', online_ritel['quantity'].mean())\n",
        "print('nilai median:', online_ritel['quantity'].median())\n",
        "print('nilai standar deviasi:', online_ritel['quantity'].std())"
      ],
      "metadata": {
        "colab": {
          "base_uri": "https://localhost:8080/"
        },
        "id": "YloBBLS4jPs2",
        "outputId": "ae831568-2edf-48af-c657-919681ac948b"
      },
      "execution_count": 20,
      "outputs": [
        {
          "output_type": "stream",
          "name": "stdout",
          "text": [
            "nilai minimum: -9360.0\n",
            "nilai maksimum: 2880.0\n",
            "nilai mean: 8.684684684684685\n",
            "nilai median: 3.0\n",
            "nilai standar deviasi: 124.00566402237253\n"
          ]
        }
      ]
    },
    {
      "cell_type": "code",
      "source": [
        "# quantile\n",
        "# adalah titik potong yang bagi distribusi dalam ukuran yang sama\n",
        "# quartile adalah quantile yang membagi grup jadi 4 bagian yang sama\n",
        "# persentile membagi grup jadi 10 bagian yang sama"
      ],
      "metadata": {
        "id": "HuJCLKdZkuUq"
      },
      "execution_count": null,
      "outputs": []
    }
  ]
}